{
 "cells": [
  {
   "cell_type": "code",
   "execution_count": 18,
   "metadata": {},
   "outputs": [],
   "source": [
    "import csv\n",
    "import numpy as np\n",
    "import matplotlib.pyplot as plt\n",
    "import pandas as pd\n",
    "import seaborn as sn\n",
    "from sklearn.linear_model import Perceptron\n",
    "from sklearn.metrics import confusion_matrix\n",
    "from sklearn.ensemble import AdaBoostClassifier\n",
    "from sklearn.ensemble import BaggingClassifier\n",
    "from sklearn.preprocessing import StandardScaler\n",
    "from sklearn.neural_network import MLPClassifier\n",
    "from sklearn.model_selection import train_test_split\n",
    "import sys\n",
    "import time\n",
    "import progressbar\n",
    "\n"
   ]
  },
  {
   "cell_type": "code",
   "execution_count": 19,
   "metadata": {},
   "outputs": [
    {
     "data": {
      "text/plain": [
       "array([[-0.34269573, -0.11551309, -0.23135075, ..., -0.61548421,\n",
       "         0.26560613,  0.11454169],\n",
       "       [ 0.35138409,  0.7622068 , -0.30542223, ..., -0.34166599,\n",
       "        -0.07579997, -0.29323244],\n",
       "       [-0.08808812,  1.67564256, -0.07648268, ..., -0.35218699,\n",
       "         0.22152365, -0.0957837 ],\n",
       "       ...,\n",
       "       [-0.32015869,  0.178451  , -0.1445089 , ..., -0.40828188,\n",
       "         0.00903926, -0.22131694],\n",
       "       [ 1.29550321,  0.32769225, -0.44563297, ...,  0.31189335,\n",
       "        -0.84101564, -0.79792592],\n",
       "       [ 0.35838885, -0.31348686, -0.28153636, ..., -0.58037969,\n",
       "         0.04079771, -0.08576176]])"
      ]
     },
     "execution_count": 19,
     "metadata": {},
     "output_type": "execute_result"
    }
   ],
   "source": [
    "X = []\n",
    "y = []\n",
    "#Import Pulsar dataset from csv\n",
    "with open(\"pulsar_stars.csv\") as csv_file:\n",
    "    csv_read = csv.reader(csv_file, delimiter = ',')\n",
    "    for line in csv_read:\n",
    "        #print(line)\n",
    "        feat = []\n",
    "        binClass = []\n",
    "        i = 0\n",
    "        while i<len(line):\n",
    "            #print(line[i],i)\n",
    "            if i == 8:\n",
    "                num = float(line[i])\n",
    "                #print(num)\n",
    "                binClass.append(num)\n",
    "            else:\n",
    "                num = float(line[i])\n",
    "                feat.append(num)\n",
    "            i+=1\n",
    "\n",
    "        X.append(feat)\n",
    "        y.append(binClass)\n",
    "\n",
    "        \n",
    "\n",
    "#print(X[1])\n",
    "#print(y[1])\n",
    "#print(y)\n",
    "\n",
    "y = np.reshape(y,len(y))\n",
    "\n",
    "xTrain, xTest, yTrain, yTest = train_test_split(X, y, test_size = 0.2, random_state = 0)\n",
    "scaler = StandardScaler()\n",
    "scaler.fit(X)\n",
    "scaler.transform(xTrain)\n",
    "scaler.transform(xTest)"
   ]
  },
  {
   "cell_type": "code",
   "execution_count": 20,
   "metadata": {
    "scrolled": true
   },
   "outputs": [
    {
     "name": "stderr",
     "output_type": "stream",
     "text": [
      "/anaconda3/lib/python3.7/site-packages/sklearn/neural_network/multilayer_perceptron.py:562: ConvergenceWarning: Stochastic Optimizer: Maximum iterations (100) reached and the optimization hasn't converged yet.\n",
      "  % self.max_iter, ConvergenceWarning)\n",
      "N/A% (0 of 192) |                        | Elapsed Time: 0:00:00 ETA:  --:--:--/anaconda3/lib/python3.7/site-packages/sklearn/neural_network/multilayer_perceptron.py:562: ConvergenceWarning: Stochastic Optimizer: Maximum iterations (100) reached and the optimization hasn't converged yet.\n",
      "  % self.max_iter, ConvergenceWarning)\n",
      "  1% (2 of 192) |                        | Elapsed Time: 0:00:03 ETA:   0:05:20/anaconda3/lib/python3.7/site-packages/sklearn/neural_network/multilayer_perceptron.py:562: ConvergenceWarning: Stochastic Optimizer: Maximum iterations (100) reached and the optimization hasn't converged yet.\n",
      "  % self.max_iter, ConvergenceWarning)\n",
      "  2% (4 of 192) |                        | Elapsed Time: 0:00:09 ETA:   0:08:50/anaconda3/lib/python3.7/site-packages/sklearn/neural_network/multilayer_perceptron.py:562: ConvergenceWarning: Stochastic Optimizer: Maximum iterations (100) reached and the optimization hasn't converged yet.\n",
      "  % self.max_iter, ConvergenceWarning)\n",
      "  2% (5 of 192) |                        | Elapsed Time: 0:00:12 ETA:   0:10:03/anaconda3/lib/python3.7/site-packages/sklearn/neural_network/multilayer_perceptron.py:562: ConvergenceWarning: Stochastic Optimizer: Maximum iterations (100) reached and the optimization hasn't converged yet.\n",
      "  % self.max_iter, ConvergenceWarning)\n",
      "  3% (6 of 192) |                        | Elapsed Time: 0:00:15 ETA:   0:10:32/anaconda3/lib/python3.7/site-packages/sklearn/neural_network/multilayer_perceptron.py:562: ConvergenceWarning: Stochastic Optimizer: Maximum iterations (100) reached and the optimization hasn't converged yet.\n",
      "  % self.max_iter, ConvergenceWarning)\n",
      "  3% (7 of 192) |                        | Elapsed Time: 0:00:19 ETA:   0:10:16/anaconda3/lib/python3.7/site-packages/sklearn/neural_network/multilayer_perceptron.py:562: ConvergenceWarning: Stochastic Optimizer: Maximum iterations (100) reached and the optimization hasn't converged yet.\n",
      "  % self.max_iter, ConvergenceWarning)\n",
      "  4% (8 of 192) |#                       | Elapsed Time: 0:00:22 ETA:   0:09:29/anaconda3/lib/python3.7/site-packages/sklearn/neural_network/multilayer_perceptron.py:562: ConvergenceWarning: Stochastic Optimizer: Maximum iterations (100) reached and the optimization hasn't converged yet.\n",
      "  % self.max_iter, ConvergenceWarning)\n",
      "  4% (9 of 192) |#                       | Elapsed Time: 0:00:26 ETA:   0:12:41/anaconda3/lib/python3.7/site-packages/sklearn/neural_network/multilayer_perceptron.py:562: ConvergenceWarning: Stochastic Optimizer: Maximum iterations (100) reached and the optimization hasn't converged yet.\n",
      "  % self.max_iter, ConvergenceWarning)\n",
      "  5% (10 of 192) |#                      | Elapsed Time: 0:00:30 ETA:   0:11:06/anaconda3/lib/python3.7/site-packages/sklearn/neural_network/multilayer_perceptron.py:562: ConvergenceWarning: Stochastic Optimizer: Maximum iterations (100) reached and the optimization hasn't converged yet.\n",
      "  % self.max_iter, ConvergenceWarning)\n",
      "  5% (11 of 192) |#                      | Elapsed Time: 0:00:33 ETA:   0:09:27/anaconda3/lib/python3.7/site-packages/sklearn/neural_network/multilayer_perceptron.py:562: ConvergenceWarning: Stochastic Optimizer: Maximum iterations (100) reached and the optimization hasn't converged yet.\n",
      "  % self.max_iter, ConvergenceWarning)\n",
      "  6% (12 of 192) |#                      | Elapsed Time: 0:00:36 ETA:   0:10:27/anaconda3/lib/python3.7/site-packages/sklearn/neural_network/multilayer_perceptron.py:562: ConvergenceWarning: Stochastic Optimizer: Maximum iterations (100) reached and the optimization hasn't converged yet.\n",
      "  % self.max_iter, ConvergenceWarning)\n",
      "  6% (13 of 192) |#                      | Elapsed Time: 0:00:40 ETA:   0:10:12/anaconda3/lib/python3.7/site-packages/sklearn/neural_network/multilayer_perceptron.py:562: ConvergenceWarning: Stochastic Optimizer: Maximum iterations (100) reached and the optimization hasn't converged yet.\n",
      "  % self.max_iter, ConvergenceWarning)\n",
      "  7% (14 of 192) |#                      | Elapsed Time: 0:00:43 ETA:   0:08:50/anaconda3/lib/python3.7/site-packages/sklearn/neural_network/multilayer_perceptron.py:562: ConvergenceWarning: Stochastic Optimizer: Maximum iterations (100) reached and the optimization hasn't converged yet.\n",
      "  % self.max_iter, ConvergenceWarning)\n",
      " 13% (26 of 192) |###                    | Elapsed Time: 0:01:15 ETA:   0:15:33/anaconda3/lib/python3.7/site-packages/sklearn/neural_network/multilayer_perceptron.py:562: ConvergenceWarning: Stochastic Optimizer: Maximum iterations (200) reached and the optimization hasn't converged yet.\n",
      "  % self.max_iter, ConvergenceWarning)\n",
      " 14% (27 of 192) |###                    | Elapsed Time: 0:01:21 ETA:   0:16:13/anaconda3/lib/python3.7/site-packages/sklearn/neural_network/multilayer_perceptron.py:562: ConvergenceWarning: Stochastic Optimizer: Maximum iterations (200) reached and the optimization hasn't converged yet.\n",
      "  % self.max_iter, ConvergenceWarning)\n",
      " 15% (29 of 192) |###                    | Elapsed Time: 0:01:31 ETA:   0:10:46/anaconda3/lib/python3.7/site-packages/sklearn/neural_network/multilayer_perceptron.py:562: ConvergenceWarning: Stochastic Optimizer: Maximum iterations (200) reached and the optimization hasn't converged yet.\n",
      "  % self.max_iter, ConvergenceWarning)\n",
      "100% (192 of 192) |######################| Elapsed Time: 0:10:46 Time:  0:10:46\n"
     ]
    }
   ],
   "source": [
    "scores = []\n",
    "#Define Multilayer Perceptron Model\n",
    "hyperparam_val = []\n",
    "hidden_lays = [(4,4,3,2), (7, 4), (8, 3, 2)]\n",
    "for epoch in range(9):\n",
    "    if not (epoch == 0):\n",
    "        for learn_rate in range(8):\n",
    "            #(hidden units, learning rate, c)\n",
    "            for num_hid in range(len(hidden_lays)):\n",
    "                hyperparam_val.append((0.0001*10**learn_rate,100*epoch,num_hid))\n",
    "\n",
    "bar = progressbar.ProgressBar(maxval=len(hyperparam_val))\n",
    "\n",
    "count = 0\n",
    "for param in hyperparam_val:\n",
    "    #print(param)\n",
    "    mlp = MLPClassifier(activation='tanh', solver = 'adam', alpha = param[0], hidden_layer_sizes=(8,4,2), max_iter=param[1])\n",
    "    mlp.fit(xTrain,yTrain)\n",
    "    #print(sp.get_params())\n",
    "    yP = mlp.predict(xTest)\n",
    "    #print(sp.score(X,y))\n",
    "    #scores.append((param,mlp.score(X,y)))\n",
    "    score = 0\n",
    "    for i in range(len(yP)):\n",
    "        if yTest[i] == yP[i]:\n",
    "            score += 1\n",
    "        \n",
    "    scores.append((param[0], param[1], param[2], (score/len(yP) * 100)))\n",
    "    \n",
    "    count += 1\n",
    "    sys.stdout.flush()\n",
    "    bar.update(count)\n",
    "    \n",
    "bar.finish()\n",
    "\n"
   ]
  },
  {
   "cell_type": "code",
   "execution_count": 21,
   "metadata": {},
   "outputs": [
    {
     "name": "stderr",
     "output_type": "stream",
     "text": [
      "100% (192 of 192) |######################| Elapsed Time: 0:04:10 Time:  0:04:10\n"
     ]
    }
   ],
   "source": [
    "scores2 = []\n",
    "bar = progressbar.ProgressBar(maxval=len(hyperparam_val))\n",
    "\n",
    "count = 0\n",
    "for param in hyperparam_val:\n",
    "    #print(param)\n",
    "    mlp2 = MLPClassifier(activation='tanh', solver = 'lbfgs', alpha = param[0], hidden_layer_sizes=(8,4,2), max_iter=param[1])\n",
    "    mlp2.fit(xTrain,yTrain)\n",
    "    #print(sp.get_params())\n",
    "    yP = mlp2.predict(xTest)\n",
    "    #print(sp.score(X,y))\n",
    "    #scores.append((param,mlp.score(X,y)))\n",
    "    score = 0\n",
    "    for i in range(len(yP)):\n",
    "        if yTest[i] == yP[i]:\n",
    "            score += 1\n",
    "        \n",
    "    scores2.append((param[0], param[1], param[2], (score/len(yP) * 100)))\n",
    "    \n",
    "    count += 1\n",
    "    sys.stdout.flush()\n",
    "    bar.update(count)\n",
    "    \n",
    "bar.finish()\n",
    "\n",
    "\n"
   ]
  },
  {
   "cell_type": "code",
   "execution_count": 28,
   "metadata": {},
   "outputs": [
    {
     "name": "stdout",
     "output_type": "stream",
     "text": [
      "(0.1, 300, 0, 98.5195530726257)\n",
      "(0.1, 300, 0, 98.5195530726257)\n"
     ]
    }
   ],
   "source": [
    "max = 0\n",
    "maxInfo1 = ()\n",
    "for score in scores:\n",
    "    if score[3] > max:\n",
    "        max = score[3]\n",
    "        maxInfo1 = score\n",
    "\n",
    "print(maxInfo1)\n",
    "\n",
    "\n",
    "max = 0\n",
    "maxInfo2 = ()\n",
    "for score in scores:\n",
    "    if score[3] > max:\n",
    "        max = score[3]\n",
    "        maxInfo2 = score\n",
    "\n",
    "print(maxInfo2)\n",
    "\n"
   ]
  },
  {
   "cell_type": "code",
   "execution_count": 29,
   "metadata": {},
   "outputs": [
    {
     "data": {
      "image/png": "[encoded data removed]",
      "text/plain": [
       "<Figure size 432x288 with 2 Axes>"
      ]
     },
     "metadata": {},
     "output_type": "display_data"
    }
   ],
   "source": [
    "bestMLP1 = MLPClassifier(alpha = maxInfo1[0],hidden_layer_sizes=hidden_lays[maxInfo1[2]],max_iter= maxInfo1[1])\n",
    "bestMLP1.fit(xTrain, yTrain)\n",
    "yP1 = bestMLP1.predict(xTest)\n",
    "conMat1 = confusion_matrix(yTest, yP1)\n",
    "df_cm = pd.DataFrame(conMat1, ['Not Pulsar', 'Pulsar'],['Not Pulsar', 'Pulsar'])\n",
    "sn.set(font_scale=1)#for label size\n",
    "ax = sn.heatmap(df_cm, annot=True,fmt= 'd',annot_kws={\"size\": 16})# font size\n",
    "ax.set(xlabel = 'Predicted Value', ylabel = 'True Label')\n",
    "plt.show()\n"
   ]
  },
  {
   "cell_type": "code",
   "execution_count": 30,
   "metadata": {},
   "outputs": [
    {
     "data": {
      "image/png": "[encoded data removed]",
      "text/plain": [
       "<Figure size 432x288 with 2 Axes>"
      ]
     },
     "metadata": {},
     "output_type": "display_data"
    }
   ],
   "source": [
    "bestMLP2 = MLPClassifier(alpha = maxInfo2[0],hidden_layer_sizes=hidden_lays[maxInfo2[2]],max_iter= maxInfo2[1])\n",
    "bestMLP2.fit(xTrain, yTrain)\n",
    "yP2 = bestMLP2.predict(xTest)\n",
    "conMat2 = confusion_matrix(yTest, yP2)\n",
    "df_cm = pd.DataFrame(conMat2, ['Not Pulsar', 'Pulsar'],['Not Pulsar', 'Pulsar'])\n",
    "sn.set(font_scale=1)#for label size\n",
    "ax = sn.heatmap(df_cm, annot=True,fmt= 'd',annot_kws={\"size\": 16})# font size\n",
    "ax.set(xlabel = 'Predicted Value', ylabel = 'True Label')\n",
    "plt.show()"
   ]
  },
  {
   "cell_type": "code",
   "execution_count": 32,
   "metadata": {},
   "outputs": [
    {
     "name": "stderr",
     "output_type": "stream",
     "text": [
      "/anaconda3/lib/python3.7/site-packages/sklearn/neural_network/multilayer_perceptron.py:562: ConvergenceWarning: Stochastic Optimizer: Maximum iterations (300) reached and the optimization hasn't converged yet.\n",
      "  % self.max_iter, ConvergenceWarning)\n",
      "/anaconda3/lib/python3.7/site-packages/sklearn/neural_network/multilayer_perceptron.py:562: ConvergenceWarning: Stochastic Optimizer: Maximum iterations (300) reached and the optimization hasn't converged yet.\n",
      "  % self.max_iter, ConvergenceWarning)\n",
      "/anaconda3/lib/python3.7/site-packages/sklearn/neural_network/multilayer_perceptron.py:562: ConvergenceWarning: Stochastic Optimizer: Maximum iterations (300) reached and the optimization hasn't converged yet.\n",
      "  % self.max_iter, ConvergenceWarning)\n",
      "/anaconda3/lib/python3.7/site-packages/sklearn/neural_network/multilayer_perceptron.py:562: ConvergenceWarning: Stochastic Optimizer: Maximum iterations (300) reached and the optimization hasn't converged yet.\n",
      "  % self.max_iter, ConvergenceWarning)\n",
      "/anaconda3/lib/python3.7/site-packages/sklearn/neural_network/multilayer_perceptron.py:562: ConvergenceWarning: Stochastic Optimizer: Maximum iterations (300) reached and the optimization hasn't converged yet.\n",
      "  % self.max_iter, ConvergenceWarning)\n",
      "/anaconda3/lib/python3.7/site-packages/sklearn/neural_network/multilayer_perceptron.py:562: ConvergenceWarning: Stochastic Optimizer: Maximum iterations (300) reached and the optimization hasn't converged yet.\n",
      "  % self.max_iter, ConvergenceWarning)\n",
      "/anaconda3/lib/python3.7/site-packages/sklearn/neural_network/multilayer_perceptron.py:562: ConvergenceWarning: Stochastic Optimizer: Maximum iterations (300) reached and the optimization hasn't converged yet.\n",
      "  % self.max_iter, ConvergenceWarning)\n",
      "/anaconda3/lib/python3.7/site-packages/sklearn/neural_network/multilayer_perceptron.py:562: ConvergenceWarning: Stochastic Optimizer: Maximum iterations (300) reached and the optimization hasn't converged yet.\n",
      "  % self.max_iter, ConvergenceWarning)\n",
      "/anaconda3/lib/python3.7/site-packages/sklearn/neural_network/multilayer_perceptron.py:562: ConvergenceWarning: Stochastic Optimizer: Maximum iterations (300) reached and the optimization hasn't converged yet.\n",
      "  % self.max_iter, ConvergenceWarning)\n",
      "/anaconda3/lib/python3.7/site-packages/sklearn/neural_network/multilayer_perceptron.py:562: ConvergenceWarning: Stochastic Optimizer: Maximum iterations (300) reached and the optimization hasn't converged yet.\n",
      "  % self.max_iter, ConvergenceWarning)\n",
      "/anaconda3/lib/python3.7/site-packages/sklearn/neural_network/multilayer_perceptron.py:562: ConvergenceWarning: Stochastic Optimizer: Maximum iterations (300) reached and the optimization hasn't converged yet.\n",
      "  % self.max_iter, ConvergenceWarning)\n",
      "/anaconda3/lib/python3.7/site-packages/sklearn/neural_network/multilayer_perceptron.py:562: ConvergenceWarning: Stochastic Optimizer: Maximum iterations (300) reached and the optimization hasn't converged yet.\n",
      "  % self.max_iter, ConvergenceWarning)\n",
      "/anaconda3/lib/python3.7/site-packages/sklearn/neural_network/multilayer_perceptron.py:562: ConvergenceWarning: Stochastic Optimizer: Maximum iterations (300) reached and the optimization hasn't converged yet.\n",
      "  % self.max_iter, ConvergenceWarning)\n",
      "/anaconda3/lib/python3.7/site-packages/sklearn/neural_network/multilayer_perceptron.py:562: ConvergenceWarning: Stochastic Optimizer: Maximum iterations (300) reached and the optimization hasn't converged yet.\n",
      "  % self.max_iter, ConvergenceWarning)\n"
     ]
    },
    {
     "name": "stdout",
     "output_type": "stream",
     "text": [
      "Bagged Accuracy: 0.970391061452514\n"
     ]
    },
    {
     "name": "stderr",
     "output_type": "stream",
     "text": [
      "/anaconda3/lib/python3.7/site-packages/sklearn/neural_network/multilayer_perceptron.py:562: ConvergenceWarning: Stochastic Optimizer: Maximum iterations (300) reached and the optimization hasn't converged yet.\n",
      "  % self.max_iter, ConvergenceWarning)\n",
      "/anaconda3/lib/python3.7/site-packages/sklearn/neural_network/multilayer_perceptron.py:562: ConvergenceWarning: Stochastic Optimizer: Maximum iterations (300) reached and the optimization hasn't converged yet.\n",
      "  % self.max_iter, ConvergenceWarning)\n",
      "/anaconda3/lib/python3.7/site-packages/sklearn/neural_network/multilayer_perceptron.py:562: ConvergenceWarning: Stochastic Optimizer: Maximum iterations (300) reached and the optimization hasn't converged yet.\n",
      "  % self.max_iter, ConvergenceWarning)\n",
      "/anaconda3/lib/python3.7/site-packages/sklearn/neural_network/multilayer_perceptron.py:562: ConvergenceWarning: Stochastic Optimizer: Maximum iterations (300) reached and the optimization hasn't converged yet.\n",
      "  % self.max_iter, ConvergenceWarning)\n",
      "/anaconda3/lib/python3.7/site-packages/sklearn/neural_network/multilayer_perceptron.py:562: ConvergenceWarning: Stochastic Optimizer: Maximum iterations (300) reached and the optimization hasn't converged yet.\n",
      "  % self.max_iter, ConvergenceWarning)\n",
      "/anaconda3/lib/python3.7/site-packages/sklearn/neural_network/multilayer_perceptron.py:562: ConvergenceWarning: Stochastic Optimizer: Maximum iterations (300) reached and the optimization hasn't converged yet.\n",
      "  % self.max_iter, ConvergenceWarning)\n",
      "/anaconda3/lib/python3.7/site-packages/sklearn/neural_network/multilayer_perceptron.py:562: ConvergenceWarning: Stochastic Optimizer: Maximum iterations (300) reached and the optimization hasn't converged yet.\n",
      "  % self.max_iter, ConvergenceWarning)\n",
      "/anaconda3/lib/python3.7/site-packages/sklearn/neural_network/multilayer_perceptron.py:562: ConvergenceWarning: Stochastic Optimizer: Maximum iterations (300) reached and the optimization hasn't converged yet.\n",
      "  % self.max_iter, ConvergenceWarning)\n",
      "/anaconda3/lib/python3.7/site-packages/sklearn/neural_network/multilayer_perceptron.py:562: ConvergenceWarning: Stochastic Optimizer: Maximum iterations (300) reached and the optimization hasn't converged yet.\n",
      "  % self.max_iter, ConvergenceWarning)\n",
      "/anaconda3/lib/python3.7/site-packages/sklearn/neural_network/multilayer_perceptron.py:562: ConvergenceWarning: Stochastic Optimizer: Maximum iterations (300) reached and the optimization hasn't converged yet.\n",
      "  % self.max_iter, ConvergenceWarning)\n"
     ]
    },
    {
     "name": "stdout",
     "output_type": "stream",
     "text": [
      "Bagged Accuracy: 0.9664804469273743\n"
     ]
    },
    {
     "name": "stderr",
     "output_type": "stream",
     "text": [
      "/anaconda3/lib/python3.7/site-packages/sklearn/neural_network/multilayer_perceptron.py:562: ConvergenceWarning: Stochastic Optimizer: Maximum iterations (300) reached and the optimization hasn't converged yet.\n",
      "  % self.max_iter, ConvergenceWarning)\n"
     ]
    }
   ],
   "source": [
    "baggedMLP1 = BaggingClassifier(base_estimator= bestMLP1, n_estimators= 15, max_samples= 500, max_features= 8, bootstrap= True)\n",
    "baggedMLP1.fit(xTrain,yTrain)\n",
    "print('Bagged Accuracy:',baggedMLP1.score(xTest,yTest))\n",
    "\n",
    "baggedMLP2 = BaggingClassifier(base_estimator= bestMLP2, n_estimators= 15, max_samples= 500, max_features= 8, bootstrap= True)\n",
    "baggedMLP2.fit(xTrain,yTrain)\n",
    "print('Bagged Accuracy:',baggedMLP2.score(xTest,yTest))\n",
    "#sequencedSp = BaggingClassifier(base_estimator= adaSP, n_estimators= 15, max_samples= 500, max_features= 8, bootstrap= True)\n",
    "#sequencedSp.fit(X,y)\n",
    "#print('Sequenced Accuracy:', sequencedSp.score(X,y))\n",
    "\n",
    "\n"
   ]
  },
  {
   "cell_type": "code",
   "execution_count": 14,
   "metadata": {},
   "outputs": [
    {
     "name": "stdout",
     "output_type": "stream",
     "text": [
      "hi\n"
     ]
    }
   ],
   "source": [
    "print(\"hi\")"
   ]
  },
  {
   "cell_type": "code",
   "execution_count": null,
   "metadata": {},
   "outputs": [],
   "source": []
  }
 ],
 "metadata": {
  "kernelspec": {
   "display_name": "Python 3",
   "language": "python",
   "name": "python3"
  },
  "language_info": {
   "codemirror_mode": {
    "name": "ipython",
    "version": 3
   },
   "file_extension": ".py",
   "mimetype": "text/x-python",
   "name": "python",
   "nbconvert_exporter": "python",
   "pygments_lexer": "ipython3",
   "version": "3.7.1"
  }
 },
 "nbformat": 4,
 "nbformat_minor": 2
}
