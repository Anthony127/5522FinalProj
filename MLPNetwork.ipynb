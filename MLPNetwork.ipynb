{
 "cells": [
  {
   "cell_type": "code",
   "execution_count": 1,
   "metadata": {},
   "outputs": [],
   "source": [
    "import csv\n",
    "import numpy as np\n",
    "import matplotlib.pyplot as plt\n",
    "import pandas as pd\n",
    "import seaborn as sn\n",
    "from sklearn.linear_model import Perceptron\n",
    "from sklearn.metrics import confusion_matrix\n",
    "from sklearn.ensemble import AdaBoostClassifier\n",
    "from sklearn.ensemble import BaggingClassifier\n",
    "from sklearn.preprocessing import StandardScaler\n",
    "from sklearn.neural_network import MLPClassifier\n",
    "import sys\n",
    "import time\n",
    "import progressbar\n",
    "\n"
   ]
  },
  {
   "cell_type": "code",
   "execution_count": 2,
   "metadata": {},
   "outputs": [
    {
     "data": {
      "text/plain": [
       "array([[ 1.14931702,  1.33483164, -0.66956953, ..., -0.37062547,\n",
       "        -0.07279778, -0.28743812],\n",
       "       [-0.3341682 ,  1.80226533, -0.01178476, ..., -0.5889241 ,\n",
       "         0.50442694,  0.21158145],\n",
       "       [-0.31437216, -1.05332222, -0.14523256, ..., -0.23532816,\n",
       "        -0.12599609, -0.39137346],\n",
       "       ...,\n",
       "       [ 0.3218423 ,  1.95621968, -0.2993338 , ...,  1.67156847,\n",
       "        -1.28807874, -0.94133005],\n",
       "       [ 0.13362759,  1.07450972, -0.26005007, ..., -0.66485697,\n",
       "         0.37825656,  0.27584987],\n",
       "       [-2.10576204,  5.73546965,  0.87267394, ...,  1.97154554,\n",
       "        -2.19732744, -0.97105168]])"
      ]
     },
     "execution_count": 2,
     "metadata": {},
     "output_type": "execute_result"
    }
   ],
   "source": [
    "X = []\n",
    "y = []\n",
    "#Import Pulsar dataset from csv\n",
    "with open(\"pulsar_stars.csv\") as csv_file:\n",
    "    csv_read = csv.reader(csv_file, delimiter = ',')\n",
    "    for line in csv_read:\n",
    "        #print(line)\n",
    "        feat = []\n",
    "        binClass = []\n",
    "        i = 0\n",
    "        while i<len(line):\n",
    "            #print(line[i],i)\n",
    "            if i == 8:\n",
    "                num = float(line[i])\n",
    "                #print(num)\n",
    "                binClass.append(num)\n",
    "            else:\n",
    "                num = float(line[i])\n",
    "                feat.append(num)\n",
    "            i+=1\n",
    "\n",
    "        X.append(feat)\n",
    "        y.append(binClass)\n",
    "\n",
    "        \n",
    "\n",
    "#print(X[1])\n",
    "#print(y[1])\n",
    "#print(y)\n",
    "\n",
    "y = np.reshape(y,len(y))\n",
    "scaler = StandardScaler()\n",
    "scaler.fit(X)\n",
    "scaler.transform(X)"
   ]
  },
  {
   "cell_type": "code",
   "execution_count": 3,
   "metadata": {
    "scrolled": true
   },
   "outputs": [
    {
     "name": "stderr",
     "output_type": "stream",
     "text": [
      "/anaconda3/lib/python3.7/site-packages/sklearn/neural_network/multilayer_perceptron.py:562: ConvergenceWarning: Stochastic Optimizer: Maximum iterations (100) reached and the optimization hasn't converged yet.\n",
      "  % self.max_iter, ConvergenceWarning)\n",
      "N/A% (0 of 192) |                        | Elapsed Time: 0:00:00 ETA:  --:--:--/anaconda3/lib/python3.7/site-packages/sklearn/neural_network/multilayer_perceptron.py:562: ConvergenceWarning: Stochastic Optimizer: Maximum iterations (100) reached and the optimization hasn't converged yet.\n",
      "  % self.max_iter, ConvergenceWarning)\n",
      "  1% (2 of 192) |                        | Elapsed Time: 0:00:03 ETA:   0:05:18/anaconda3/lib/python3.7/site-packages/sklearn/neural_network/multilayer_perceptron.py:562: ConvergenceWarning: Stochastic Optimizer: Maximum iterations (100) reached and the optimization hasn't converged yet.\n",
      "  % self.max_iter, ConvergenceWarning)\n",
      "  2% (4 of 192) |                        | Elapsed Time: 0:00:10 ETA:   0:10:10/anaconda3/lib/python3.7/site-packages/sklearn/neural_network/multilayer_perceptron.py:562: ConvergenceWarning: Stochastic Optimizer: Maximum iterations (100) reached and the optimization hasn't converged yet.\n",
      "  % self.max_iter, ConvergenceWarning)\n",
      "  3% (7 of 192) |                        | Elapsed Time: 0:00:19 ETA:   0:09:33/anaconda3/lib/python3.7/site-packages/sklearn/neural_network/multilayer_perceptron.py:562: ConvergenceWarning: Stochastic Optimizer: Maximum iterations (100) reached and the optimization hasn't converged yet.\n",
      "  % self.max_iter, ConvergenceWarning)\n",
      "  4% (9 of 192) |#                       | Elapsed Time: 0:00:25 ETA:   0:08:33/anaconda3/lib/python3.7/site-packages/sklearn/neural_network/multilayer_perceptron.py:562: ConvergenceWarning: Stochastic Optimizer: Maximum iterations (100) reached and the optimization hasn't converged yet.\n",
      "  % self.max_iter, ConvergenceWarning)\n",
      "  5% (11 of 192) |#                      | Elapsed Time: 0:00:31 ETA:   0:09:03/anaconda3/lib/python3.7/site-packages/sklearn/neural_network/multilayer_perceptron.py:562: ConvergenceWarning: Stochastic Optimizer: Maximum iterations (100) reached and the optimization hasn't converged yet.\n",
      "  % self.max_iter, ConvergenceWarning)\n",
      "  7% (14 of 192) |#                      | Elapsed Time: 0:00:42 ETA:   0:11:58/anaconda3/lib/python3.7/site-packages/sklearn/neural_network/multilayer_perceptron.py:562: ConvergenceWarning: Stochastic Optimizer: Maximum iterations (100) reached and the optimization hasn't converged yet.\n",
      "  % self.max_iter, ConvergenceWarning)\n",
      "  8% (17 of 192) |##                     | Elapsed Time: 0:00:49 ETA:   0:06:20/anaconda3/lib/python3.7/site-packages/sklearn/neural_network/multilayer_perceptron.py:562: ConvergenceWarning: Stochastic Optimizer: Maximum iterations (100) reached and the optimization hasn't converged yet.\n",
      "  % self.max_iter, ConvergenceWarning)\n",
      "100% (192 of 192) |######################| Elapsed Time: 0:10:58 Time:  0:10:58\n"
     ]
    }
   ],
   "source": [
    "scores = []\n",
    "#Define Multilayer Perceptron Model\n",
    "hyperparam_val = []\n",
    "hidden_lays = [(4,4,3,2), (7, 4), (8, 3, 2)]\n",
    "for epoch in range(9):\n",
    "    if not (epoch == 0):\n",
    "        for learn_rate in range(8):\n",
    "            #(hidden units, learning rate, c)\n",
    "            for num_hid in range(len(hidden_lays)):\n",
    "                hyperparam_val.append((0.0001*10**learn_rate,100*epoch,num_hid))\n",
    "\n",
    "bar = progressbar.ProgressBar(maxval=len(hyperparam_val))\n",
    "\n",
    "count = 0\n",
    "for param in hyperparam_val:\n",
    "    #print(param)\n",
    "    mlp = MLPClassifier(activation='tanh', solver = 'adam', alpha = param[0], hidden_layer_sizes=(8,4,2), max_iter=param[1])\n",
    "    mlp.fit(X,y)\n",
    "    #print(sp.get_params())\n",
    "    yP = mlp.predict(X)\n",
    "    #print(sp.score(X,y))\n",
    "    #scores.append((param,mlp.score(X,y)))\n",
    "    score = 0\n",
    "    for i in range(len(yP)):\n",
    "        if y[i] == yP[i]:\n",
    "            score += 1\n",
    "        \n",
    "    scores.append((param[0], param[1], param[2], (score/len(yP) * 100)))\n",
    "    \n",
    "    count += 1\n",
    "    sys.stdout.flush()\n",
    "    bar.update(count)\n",
    "    \n",
    "bar.finish()\n",
    "\n"
   ]
  },
  {
   "cell_type": "code",
   "execution_count": 4,
   "metadata": {},
   "outputs": [
    {
     "name": "stderr",
     "output_type": "stream",
     "text": [
      "100% (192 of 192) |######################| Elapsed Time: 0:05:09 Time:  0:05:09\n"
     ]
    }
   ],
   "source": [
    "scores2 = []\n",
    "bar = progressbar.ProgressBar(maxval=len(hyperparam_val))\n",
    "\n",
    "count = 0\n",
    "for param in hyperparam_val:\n",
    "    #print(param)\n",
    "    mlp2 = MLPClassifier(activation='tanh', solver = 'lbfgs', alpha = param[0], hidden_layer_sizes=(8,4,2), max_iter=param[1])\n",
    "    mlp2.fit(X,y)\n",
    "    #print(sp.get_params())\n",
    "    yP = mlp2.predict(X)\n",
    "    #print(sp.score(X,y))\n",
    "    #scores.append((param,mlp.score(X,y)))\n",
    "    score = 0\n",
    "    for i in range(len(yP)):\n",
    "        if y[i] == yP[i]:\n",
    "            score += 1\n",
    "        \n",
    "    scores2.append((param[0], param[1], param[2], (score/len(yP) * 100)))\n",
    "    \n",
    "    count += 1\n",
    "    sys.stdout.flush()\n",
    "    bar.update(count)\n",
    "    \n",
    "bar.finish()\n",
    "\n",
    "\n"
   ]
  },
  {
   "cell_type": "code",
   "execution_count": 5,
   "metadata": {},
   "outputs": [
    {
     "name": "stdout",
     "output_type": "stream",
     "text": [
      "(0.1, 200, 1, 98.05006145938093)\n",
      "(0.1, 200, 1, 98.05006145938093)\n"
     ]
    }
   ],
   "source": [
    "max = 0\n",
    "maxInfo = ()\n",
    "for score in scores:\n",
    "    if score[3] > max:\n",
    "        max = score[3]\n",
    "        maxInfo = score\n",
    "\n",
    "print(maxInfo)\n",
    "\n",
    "\n",
    "max = 0\n",
    "maxInfo = ()\n",
    "for score in scores:\n",
    "    if score[3] > max:\n",
    "        max = score[3]\n",
    "        maxInfo = score\n",
    "\n",
    "print(maxInfo)\n",
    "\n"
   ]
  },
  {
   "cell_type": "code",
   "execution_count": 12,
   "metadata": {},
   "outputs": [
    {
     "name": "stdout",
     "output_type": "stream",
     "text": [
      "[[16169    90]\n",
      " [  320  1319]]\n"
     ]
    }
   ],
   "source": [
    "bestMLP = MLPClassifier(alpha = maxInfo[0],hidden_layer_sizes=hidden_lays[maxInfo[2]],max_iter= maxInfo[1])\n",
    "bestMLP.fit(X, y)\n",
    "yP = bestMLP.predict(X)\n",
    "print(confusion_matrix(y, yP))\n",
    "\n"
   ]
  },
  {
   "cell_type": "code",
   "execution_count": 11,
   "metadata": {},
   "outputs": [
    {
     "name": "stderr",
     "output_type": "stream",
     "text": [
      "/anaconda3/lib/python3.7/site-packages/sklearn/neural_network/multilayer_perceptron.py:562: ConvergenceWarning: Stochastic Optimizer: Maximum iterations (200) reached and the optimization hasn't converged yet.\n",
      "  % self.max_iter, ConvergenceWarning)\n",
      "/anaconda3/lib/python3.7/site-packages/sklearn/neural_network/multilayer_perceptron.py:562: ConvergenceWarning: Stochastic Optimizer: Maximum iterations (200) reached and the optimization hasn't converged yet.\n",
      "  % self.max_iter, ConvergenceWarning)\n",
      "/anaconda3/lib/python3.7/site-packages/sklearn/neural_network/multilayer_perceptron.py:562: ConvergenceWarning: Stochastic Optimizer: Maximum iterations (200) reached and the optimization hasn't converged yet.\n",
      "  % self.max_iter, ConvergenceWarning)\n",
      "/anaconda3/lib/python3.7/site-packages/sklearn/neural_network/multilayer_perceptron.py:562: ConvergenceWarning: Stochastic Optimizer: Maximum iterations (200) reached and the optimization hasn't converged yet.\n",
      "  % self.max_iter, ConvergenceWarning)\n",
      "/anaconda3/lib/python3.7/site-packages/sklearn/neural_network/multilayer_perceptron.py:562: ConvergenceWarning: Stochastic Optimizer: Maximum iterations (200) reached and the optimization hasn't converged yet.\n",
      "  % self.max_iter, ConvergenceWarning)\n",
      "/anaconda3/lib/python3.7/site-packages/sklearn/neural_network/multilayer_perceptron.py:562: ConvergenceWarning: Stochastic Optimizer: Maximum iterations (200) reached and the optimization hasn't converged yet.\n",
      "  % self.max_iter, ConvergenceWarning)\n",
      "/anaconda3/lib/python3.7/site-packages/sklearn/neural_network/multilayer_perceptron.py:562: ConvergenceWarning: Stochastic Optimizer: Maximum iterations (200) reached and the optimization hasn't converged yet.\n",
      "  % self.max_iter, ConvergenceWarning)\n",
      "/anaconda3/lib/python3.7/site-packages/sklearn/neural_network/multilayer_perceptron.py:562: ConvergenceWarning: Stochastic Optimizer: Maximum iterations (200) reached and the optimization hasn't converged yet.\n",
      "  % self.max_iter, ConvergenceWarning)\n",
      "/anaconda3/lib/python3.7/site-packages/sklearn/neural_network/multilayer_perceptron.py:562: ConvergenceWarning: Stochastic Optimizer: Maximum iterations (200) reached and the optimization hasn't converged yet.\n",
      "  % self.max_iter, ConvergenceWarning)\n",
      "/anaconda3/lib/python3.7/site-packages/sklearn/neural_network/multilayer_perceptron.py:562: ConvergenceWarning: Stochastic Optimizer: Maximum iterations (200) reached and the optimization hasn't converged yet.\n",
      "  % self.max_iter, ConvergenceWarning)\n",
      "/anaconda3/lib/python3.7/site-packages/sklearn/neural_network/multilayer_perceptron.py:562: ConvergenceWarning: Stochastic Optimizer: Maximum iterations (200) reached and the optimization hasn't converged yet.\n",
      "  % self.max_iter, ConvergenceWarning)\n",
      "/anaconda3/lib/python3.7/site-packages/sklearn/neural_network/multilayer_perceptron.py:562: ConvergenceWarning: Stochastic Optimizer: Maximum iterations (200) reached and the optimization hasn't converged yet.\n",
      "  % self.max_iter, ConvergenceWarning)\n"
     ]
    },
    {
     "name": "stdout",
     "output_type": "stream",
     "text": [
      "Bagged Accuracy: 0.9719521734271985\n",
      "0.9767571795731367\n"
     ]
    },
    {
     "name": "stderr",
     "output_type": "stream",
     "text": [
      "/anaconda3/lib/python3.7/site-packages/sklearn/neural_network/multilayer_perceptron.py:562: ConvergenceWarning: Stochastic Optimizer: Maximum iterations (200) reached and the optimization hasn't converged yet.\n",
      "  % self.max_iter, ConvergenceWarning)\n"
     ]
    }
   ],
   "source": [
    "baggedSP = BaggingClassifier(base_estimator= bestMLP, n_estimators= 15, max_samples= 500, max_features= 8, bootstrap= True)\n",
    "baggedSP.fit(X,y)\n",
    "print('Bagged Accuracy:',baggedSP.score(X,y))\n",
    "score = 0\n",
    "for i in range(len(yP)):\n",
    "    if y[i] == yP[i]:\n",
    "        score += 1\n",
    "print(score/len(yP))\n",
    "#sequencedSp = BaggingClassifier(base_estimator= adaSP, n_estimators= 15, max_samples= 500, max_features= 8, bootstrap= True)\n",
    "#sequencedSp.fit(X,y)\n",
    "#print('Sequenced Accuracy:', sequencedSp.score(X,y))\n",
    "\n",
    "\n"
   ]
  },
  {
   "cell_type": "code",
   "execution_count": 14,
   "metadata": {},
   "outputs": [
    {
     "name": "stdout",
     "output_type": "stream",
     "text": [
      "hi\n"
     ]
    }
   ],
   "source": [
    "print(\"hi\")"
   ]
  },
  {
   "cell_type": "code",
   "execution_count": null,
   "metadata": {},
   "outputs": [],
   "source": []
  }
 ],
 "metadata": {
  "kernelspec": {
   "display_name": "Python 3",
   "language": "python",
   "name": "python3"
  },
  "language_info": {
   "codemirror_mode": {
    "name": "ipython",
    "version": 3
   },
   "file_extension": ".py",
   "mimetype": "text/x-python",
   "name": "python",
   "nbconvert_exporter": "python",
   "pygments_lexer": "ipython3",
   "version": "3.7.1"
  }
 },
 "nbformat": 4,
 "nbformat_minor": 2
}
